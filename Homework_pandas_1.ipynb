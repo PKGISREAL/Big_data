{
  "cells": [
    {
      "cell_type": "markdown",
      "metadata": {
        "id": "view-in-github",
        "colab_type": "text"
      },
      "source": [
        "<a href=\"https://colab.research.google.com/github/PKGISREAL/Big_data/blob/main/Homework_pandas_1.ipynb\" target=\"_parent\"><img src=\"https://colab.research.google.com/assets/colab-badge.svg\" alt=\"Open In Colab\"/></a>"
      ]
    },
    {
      "cell_type": "markdown",
      "source": [
        "Выполнил: Округин Никита Анатольевич\n"
      ],
      "metadata": {
        "id": "Cp-DVjq1ULOO"
      }
    },
    {
      "cell_type": "markdown",
      "metadata": {
        "toc": true,
        "id": "hv4xAqYCTKkR"
      },
      "source": [
        "<h1>Table of Contents<span class=\"tocSkip\"></span></h1>\n",
        "<div class=\"toc\"><ul class=\"toc-item\"><li><span><a href=\"#-Homework-1-(Topics-1-4:-Data-Structures,-Indexing,-Cleaning-Data,-Math)\" data-toc-modified-id=\"-Homework-1-(Topics-1-4:-Data-Structures,-Indexing,-Cleaning-Data,-Math)-1\"><span class=\"toc-item-num\">1&nbsp;&nbsp;</span><center> Homework 1 (Topics 1-4: Data Structures, Indexing, Cleaning Data, Math)</center></a></span><ul class=\"toc-item\"><li><ul class=\"toc-item\"><li><ul class=\"toc-item\"><li><span><a href=\"#Task-1.\" data-toc-modified-id=\"Task-1.-1.0.0.1\"><span class=\"toc-item-num\">1.0.0.1&nbsp;&nbsp;</span>Task 1.</a></span></li><li><span><a href=\"#Варианты-ответов:\" data-toc-modified-id=\"Варианты-ответов:-1.0.0.2\"><span class=\"toc-item-num\">1.0.0.2&nbsp;&nbsp;</span>Варианты ответов:</a></span></li><li><span><a href=\"#Task-2.\" data-toc-modified-id=\"Task-2.-1.0.0.3\"><span class=\"toc-item-num\">1.0.0.3&nbsp;&nbsp;</span>Task 2.</a></span></li><li><span><a href=\"#Вопросы:\" data-toc-modified-id=\"Вопросы:-1.0.0.4\"><span class=\"toc-item-num\">1.0.0.4&nbsp;&nbsp;</span>Вопросы:</a></span></li><li><span><a href=\"#Task-3.\" data-toc-modified-id=\"Task-3.-1.0.0.5\"><span class=\"toc-item-num\">1.0.0.5&nbsp;&nbsp;</span>Task 3.</a></span></li><li><span><a href=\"#Выберите-все-верные-пункты:\" data-toc-modified-id=\"Выберите-все-верные-пункты:-1.0.0.6\"><span class=\"toc-item-num\">1.0.0.6&nbsp;&nbsp;</span>Выберите все верные пункты:</a></span></li><li><span><a href=\"#Task-4.\" data-toc-modified-id=\"Task-4.-1.0.0.7\"><span class=\"toc-item-num\">1.0.0.7&nbsp;&nbsp;</span>Task 4.</a></span></li><li><span><a href=\"#Пояснения:\" data-toc-modified-id=\"Пояснения:-1.0.0.8\"><span class=\"toc-item-num\">1.0.0.8&nbsp;&nbsp;</span>Пояснения:</a></span></li></ul></li><li><span><a href=\"#Информация-для-последующих-заданий\" data-toc-modified-id=\"Информация-для-последующих-заданий-1.0.1\"><span class=\"toc-item-num\">1.0.1&nbsp;&nbsp;</span>Информация для последующих заданий</a></span></li></ul></li><li><span><a href=\"#Описание-данных\" data-toc-modified-id=\"Описание-данных-1.1\"><span class=\"toc-item-num\">1.1&nbsp;&nbsp;</span>Описание данных</a></span><ul class=\"toc-item\"><li><span><a href=\"#Таблица-transactions.csv\" data-toc-modified-id=\"Таблица-transactions.csv-1.1.1\"><span class=\"toc-item-num\">1.1.1&nbsp;&nbsp;</span>Таблица <code>transactions.csv</code></a></span></li><li><span><a href=\"#Таблица-gender_train.csv\" data-toc-modified-id=\"Таблица-gender_train.csv-1.1.2\"><span class=\"toc-item-num\">1.1.2&nbsp;&nbsp;</span>Таблица <code>gender_train.csv</code></a></span></li><li><span><a href=\"#Таблица-tr_mcc_codes.csv\" data-toc-modified-id=\"Таблица-tr_mcc_codes.csv-1.1.3\"><span class=\"toc-item-num\">1.1.3&nbsp;&nbsp;</span>Таблица <code>tr_mcc_codes.csv</code></a></span></li><li><span><a href=\"#Таблица-tr_types.csv\" data-toc-modified-id=\"Таблица-tr_types.csv-1.1.4\"><span class=\"toc-item-num\">1.1.4&nbsp;&nbsp;</span>Таблица <code>tr_types.csv</code></a></span><ul class=\"toc-item\"><li><span><a href=\"#Task-5.\" data-toc-modified-id=\"Task-5.-1.1.4.1\"><span class=\"toc-item-num\">1.1.4.1&nbsp;&nbsp;</span>Task 5.</a></span></li><li><span><a href=\"#Task-6.\" data-toc-modified-id=\"Task-6.-1.1.4.2\"><span class=\"toc-item-num\">1.1.4.2&nbsp;&nbsp;</span>Task 6.</a></span></li><li><span><a href=\"#Выберите-все-верные-пункты:\" data-toc-modified-id=\"Выберите-все-верные-пункты:-1.1.4.3\"><span class=\"toc-item-num\">1.1.4.3&nbsp;&nbsp;</span>Выберите все верные пункты:</a></span></li><li><span><a href=\"#Task-7.\" data-toc-modified-id=\"Task-7.-1.1.4.4\"><span class=\"toc-item-num\">1.1.4.4&nbsp;&nbsp;</span>Task 7.</a></span></li><li><span><a href=\"#Выберите-все-верные-пункты:\" data-toc-modified-id=\"Выберите-все-верные-пункты:-1.1.4.5\"><span class=\"toc-item-num\">1.1.4.5&nbsp;&nbsp;</span>Выберите все верные пункты:</a></span></li><li><span><a href=\"#Task-8.\" data-toc-modified-id=\"Task-8.-1.1.4.6\"><span class=\"toc-item-num\">1.1.4.6&nbsp;&nbsp;</span>Task 8.</a></span></li></ul></li></ul></li></ul></li></ul></div>"
      ]
    },
    {
      "cell_type": "markdown",
      "metadata": {
        "id": "gJqLQFj8TKkT"
      },
      "source": [
        "# <center> Homework 1 (Topics 1-4: Data Structures, Indexing, Cleaning Data, Math)"
      ]
    },
    {
      "cell_type": "code",
      "execution_count": 1,
      "metadata": {
        "ExecuteTime": {
          "end_time": "2020-04-23T10:16:05.965275Z",
          "start_time": "2020-04-23T10:16:05.312704Z"
        },
        "id": "TFQZKb7MTKkT"
      },
      "outputs": [],
      "source": [
        "import pandas as pd\n",
        "import numpy as np"
      ]
    },
    {
      "cell_type": "markdown",
      "metadata": {
        "id": "jwojFEgGTKkU"
      },
      "source": [
        "#### Task 1.\n",
        "Задание:\n",
        "\n",
        "1. Создайте Series из последовательности 15 значений, равномерно разбивающих отрезок [0, 20] (воспользуйтесь функцией linspace)\n",
        "2. Определите отношение элементов полученной серии к их предыдущим элементам (\\*).\n",
        "3. В результате необходимо получить среднее полученного вектора, оставив в нём только те значения, которые не более чем 1.5 (\\**).\n",
        "\n",
        "Выберите из ответов тот, который максимально близок к полученному (c точки зрения абсолютной разницы).\n",
        "\n",
        "#### Варианты ответов:\n",
        "    - 1) 1.24\n",
        "    - 2) 1.18\n",
        "    - 3) 0.71\n",
        "    - 4) 1.13\n",
        "\n",
        "\n",
        "##### Пояснения:\n",
        "(\\*) Если было бы необходимо найти последовательность из 3-х значений,  \n",
        "равномерно разбивающих отрезок [0,1], то это были бы значения [0, 0.5, 1].\n",
        "\n",
        "(\\**) Если был бы дан список элементов a = [1,2,3,12], отношения элементов к предыдущим будут равны [NaN, 2, 1.5, 4].  \n",
        "А на последнем этапе в таком примере останется только [1.5] и среднее значение будет также 1.5."
      ]
    },
    {
      "cell_type": "code",
      "execution_count": 2,
      "metadata": {
        "ExecuteTime": {
          "end_time": "2020-04-23T10:13:26.017568Z",
          "start_time": "2020-04-23T10:13:26.014793Z"
        },
        "colab": {
          "base_uri": "https://localhost:8080/"
        },
        "id": "90Omv6UiTKkV",
        "outputId": "8ddc4543-b906-4da0-b232-35fdbda942b0"
      },
      "outputs": [
        {
          "output_type": "stream",
          "name": "stdout",
          "text": [
            "1.181677812927813\n"
          ]
        }
      ],
      "source": [
        "### Type your code here\n",
        "series = pd.Series(np.linspace(0, 20, 15))\n",
        "ratio_series = series/series.shift(1)\n",
        "print(ratio_series[ratio_series <= 1.5].mean())\n",
        "\n"
      ]
    },
    {
      "cell_type": "markdown",
      "source": [
        "**Ответ: Б**"
      ],
      "metadata": {
        "id": "sM8cZBNfVJph"
      }
    },
    {
      "cell_type": "markdown",
      "metadata": {
        "id": "EIRtFz95TKkV"
      },
      "source": [
        "#### Task 2.\n",
        "Выберите все верные ответы касательно следующих 3-х Series:\n",
        "    - pd.Series('abcde'); (1)\n",
        "    - pd.Series(['abcde']); (2)\n",
        "    - pd.Series(list('abcde')); (3)\n",
        "    - pd.Series(\"abcde\"); (4)\n",
        "    \n",
        "##### Пояснения:\n",
        "(\\*)\n",
        "- функция list: в строке каждый символ - это отдельный элемент для list\n",
        "- квадратные скобки: в квадратных скобках списку передается множество элементов по отдельности через запятую\n",
        "\n",
        "\n",
        "#### Вопросы:\n",
        "    - 1) Серия (1) совпадает с серией (2), так как в каждом из случаев серия создаётся из списка строк\n",
        "    - 2) Серия (2) совпадает с серией (3), так как в каждом из случаев серия создаётся из списка символов\n",
        "    - 3) Серия (1) не совпадает с серией (4), так как в (4) используются двойные кавычки \"\" вместо одинарных ''"
      ]
    },
    {
      "cell_type": "markdown",
      "source": [
        "Рассмотрим со стороны кода\n"
      ],
      "metadata": {
        "id": "LUBae3PRVtMG"
      }
    },
    {
      "cell_type": "code",
      "source": [
        "\n",
        "series_1 = pd.Series('abcde')\n",
        "series_2 = pd.Series(['abcde'])\n",
        "series_3 = pd.Series(list('abcde'))\n",
        "series_4 = pd.Series(\"abcde\")\n",
        "\n",
        "print(\"Series №1\")\n",
        "print(series_1, end = '\\n \\n')\n",
        "\n",
        "print(\"Series №2\")\n",
        "print(series_2, end = '\\n \\n')\n",
        "\n",
        "print(\"Series №3\")\n",
        "print(series_3, end = '\\n \\n')\n",
        "\n",
        "print(\"Series №4\")\n",
        "print(series_4, end = '\\n \\n')"
      ],
      "metadata": {
        "colab": {
          "base_uri": "https://localhost:8080/"
        },
        "id": "JTZY9RJPVe7L",
        "outputId": "40ecacc1-7883-4066-cc2d-a0b8cbedab83"
      },
      "execution_count": 3,
      "outputs": [
        {
          "output_type": "stream",
          "name": "stdout",
          "text": [
            "Series №1\n",
            "0    abcde\n",
            "dtype: object\n",
            " \n",
            "Series №2\n",
            "0    abcde\n",
            "dtype: object\n",
            " \n",
            "Series №3\n",
            "0    a\n",
            "1    b\n",
            "2    c\n",
            "3    d\n",
            "4    e\n",
            "dtype: object\n",
            " \n",
            "Series №4\n",
            "0    abcde\n",
            "dtype: object\n",
            " \n"
          ]
        }
      ]
    },
    {
      "cell_type": "markdown",
      "source": [
        "**Исходя из результатов, правильными ответами считаются 1 и 3**"
      ],
      "metadata": {
        "id": "lxuEhiyuXLlN"
      }
    },
    {
      "cell_type": "markdown",
      "metadata": {
        "id": "zWOTCGsDTKkW"
      },
      "source": [
        "#### Task 3.\n",
        "\n",
        "По клиенту получены зашумленные данные (объект s типа Series) по его транзакциям.\n",
        "\n",
        "Для заданного ниже объекта s проделайте следующее:\n",
        "1. Создайте новый Series, значения которого совпадают со значениями s, а индексы - целочисленные значения от 2 до 12, не включая 12.\n",
        "2. Выберите из s элементы с индексами 3 и 5, после чего просуммируйте их, сохранив результат (1).\n",
        "3. Выберите из s только целочисленные элементы и вычислите их дисперсию (2). (\\*)\n",
        "\n",
        "Все полученные результаты округлите до 2-х знаков после запятой.\n",
        "\n",
        "#### Выберите все верные пункты:\n",
        "    - 1) Ответ (1) - 642.52\n",
        "    - 2) Ответ (1) - 91.78\n",
        "    - 3) Ответ (1) - не может быть определён\n",
        "    - 4) Ответ (2) - 57591.19\n",
        "    - 5) Ответ (2) - 210.12\n",
        "    - 6) Ответ (2) - не может быть определён\n",
        "\n",
        "##### Пояснения:\n",
        "(\\*) Целочисленные значения - значения, имеющие тип int.\n",
        "- Дисперсия рассчитывается с помощью функции из библиотеки numpy: np.var( , ddof=0) или встроенной в python функции: .var(ddof=1)"
      ]
    },
    {
      "cell_type": "code",
      "execution_count": 4,
      "metadata": {
        "ExecuteTime": {
          "end_time": "2020-04-23T10:17:18.795695Z",
          "start_time": "2020-04-23T10:17:18.791449Z"
        },
        "colab": {
          "base_uri": "https://localhost:8080/"
        },
        "id": "_uIejmnZTKkW",
        "outputId": "681f2adb-f30c-4d83-80d4-d9e7dadc7401"
      },
      "outputs": [
        {
          "output_type": "stream",
          "name": "stdout",
          "text": [
            "Новый Series с индексами от 2 до 11:\n",
            "2         1\n",
            "3         2\n",
            "4       3.1\n",
            "5       hi!\n",
            "6         5\n",
            "7      -512\n",
            "8     12.42\n",
            "9      sber\n",
            "10     10.1\n",
            "11       98\n",
            "dtype: object\n",
            "\n",
            "Дисперсия целочисленных элементов: 59702.7\n"
          ]
        }
      ],
      "source": [
        "s = pd.Series(data=['1', 2, 3.1, 'hi!', 5, -512, 12.42, 'sber', 10.10, 98],\n",
        "              index=range(6, 26, 2))\n",
        "### Type your code here\n",
        "new_s = pd.Series(s.values, index=range(2, 12))\n",
        "\n",
        "# ОШИБКА\n",
        "#sum_elements = s.loc[[3, 5]].sum()\n",
        "\n",
        "numeric_elements = pd.to_numeric(s, errors='coerce').dropna()\n",
        "int_elem = numeric_elements[numeric_elements.astype(int) == numeric_elements]\n",
        "variance = round(int_elem.var(), 2)\n",
        "\n",
        "print(\"Новый Series с индексами от 2 до 11:\")\n",
        "print(new_s)\n",
        "print(\"\\nДисперсия целочисленных элементов:\", variance)"
      ]
    },
    {
      "cell_type": "markdown",
      "source": [
        "Исходя из кода выше, можно сказать, что из Series 3 и 5 просуммировать нельзя, т.к выдает ошибку из за нахождения строки на данном отрезке. А дисперсия в большей части приблизительна к ответу 4, поэтому **ответ: 3, 4**"
      ],
      "metadata": {
        "id": "7anBqB9gdB-S"
      }
    },
    {
      "cell_type": "markdown",
      "metadata": {
        "id": "L2nhd-eBTKkX"
      },
      "source": [
        "#### Task 4.\n",
        "1. Сгенерируйте Series из 100 значений нормально распределённой СВ (np.random.normal с дефолтными параметрами - нулевым средним и единичной дисперсией).\n",
        "2. Возведите каждое значение серии в 3 степень, а значения индекса увеличьте в 3 раза.\n",
        "3. Ответьте на следующие вопросы через запятую (без пробелов) (\\*)\n",
        "    - 1) Выведите сумму элементов, строго меньших 2.6, имеющих нечётные значения индекса.\n",
        "    - 2) Выведите количество значений серии меньше нуля.\n",
        "\n",
        "#### Пояснения:\n",
        "(\\*) Если получились ответы 3, 4.32, то в форму необходимо внести их в виде \"3,4.32\". То есть вещественные числа необходимо разделять точками. Не забудьте про фиксированный seed (его менять не нужно)!\n",
        " - Определенное значение seed нужно, чтобы ответы у всех выполняющих\n",
        "это задание были одинаковые и их можно было проверить (так как генерируются\n",
        "одинаковые series).\n",
        " - Следует внимательнее использовать [ ] для выбора данных по нескольким условиям:\n",
        "либо выбирать данные последовательно, либо сразу по нескольким условиям,\n",
        "но через оператор &. Отличие оператора and от оператора &: and - выводит\n",
        "последнее проверенное значение, & - выводит пересечение значений.\n",
        "Пример: s[ _  &  _ ].sum()"
      ]
    },
    {
      "cell_type": "code",
      "execution_count": 5,
      "metadata": {
        "ExecuteTime": {
          "end_time": "2020-04-23T10:18:35.713300Z",
          "start_time": "2020-04-23T10:18:35.710616Z"
        },
        "colab": {
          "base_uri": "https://localhost:8080/"
        },
        "id": "BgZfrfkqTKkX",
        "outputId": "634d19ff-f2a4-4811-c2d1-02d3ef585b5d"
      },
      "outputs": [
        {
          "output_type": "stream",
          "name": "stdout",
          "text": [
            "-15.150748101821666,51\n"
          ]
        }
      ],
      "source": [
        "np.random.seed(242)\n",
        "### Type your code here\n",
        "series = pd.Series(np.random.normal(size=100))\n",
        "series = series ** 3\n",
        "\n",
        "series.index = series.index * 3\n",
        "\n",
        "sum = series[(series.index % 2 != 0) & (series < 2.6)].sum()\n",
        "\n",
        "negativ_values = len(series[series < 0])\n",
        "\n",
        "print(\"{},{}\".format(sum, negativ_values))\n"
      ]
    },
    {
      "cell_type": "markdown",
      "source": [
        "Ответ: 1) -15.15 <br>\n",
        "       2) 51\n",
        "\n",
        "\n"
      ],
      "metadata": {
        "id": "oVE30J8fJI-1"
      }
    },
    {
      "cell_type": "markdown",
      "metadata": {
        "id": "IrZ4Q3kLTKkY"
      },
      "source": [
        "### Информация для последующих заданий\n",
        "- Для всех последующих заданий будем использовать обезличенные транзакционные банковские данные. Для этого считайте в переменные tr_mcc_codes, tr_types, transactions и gender_train из одноимённых таблиц из папки data. Для таблицы transactions используйте только первые n=1000000 строк. Обратите внимание на разделители внутри каждого из файлов - они могут различаться!"
      ]
    },
    {
      "cell_type": "code",
      "execution_count": 11,
      "metadata": {
        "ExecuteTime": {
          "end_time": "2020-04-23T10:19:13.080203Z",
          "start_time": "2020-04-23T10:19:13.077711Z"
        },
        "id": "xKQh09yoTKkY"
      },
      "outputs": [],
      "source": [
        "### Type your code here\n",
        "tr_mcc_codes = pd.read_table('tr_mcc_codes.csv', sep = ';')\n",
        "tr_types = pd.read_table('tr_types.csv', sep = ';')\n",
        "transactions = pd.read_table('transactions.csv', nrows = 1000000, sep = ',')\n",
        "gender_train = pd.read_table('gender_train.csv', sep = ',')"
      ]
    },
    {
      "cell_type": "markdown",
      "metadata": {
        "id": "IzEXTT4qTKkY"
      },
      "source": [
        "## Описание данных\n",
        "### Таблица ```transactions.csv```\n",
        "##### Описание\n",
        "Таблица содержит историю транзакций клиентов банка за один год и три месяца.\n",
        "\n",
        "##### Формат данных\n",
        "\n",
        "```\n",
        "customer_id,tr_datetime,mcc_code,tr_type,amount,term_id\n",
        "111111,15 01:40:52,1111,1000,-5224,111111\n",
        "111112,15 15:18:32,3333,2000,-100,11122233\n",
        "...\n",
        "```\n",
        "##### Описание полей\n",
        "\n",
        " - ```customer_id``` — идентификатор клиента;\n",
        " - ```tr_datetime``` — день и время совершения транзакции (дни нумеруются с начала данных);\n",
        " - ```mcc_code``` — mcc-код транзакции;\n",
        " - ```tr_type``` — тип транзакции;\n",
        " - ```amount``` — сумма транзакции в условных единицах со знаком; ```+``` — начисление средств клиенту (приходная транзакция), ```-``` — списание средств (расходная транзакция);\n",
        " - ```term_id``` — идентификатор терминала;\n",
        "\n",
        "\n",
        "### Таблица ```gender_train.csv```\n",
        "\n",
        "##### Описание\n",
        "Данная таблица содержит информацию по полу для части клиентов, для которых он известен. Для остальных клиентов пол неизвестен.\n",
        "\n",
        "##### Формат данных\n",
        "```\n",
        "customer_id,gender\n",
        "111111,0\n",
        "111112,1\n",
        "...\n",
        "```\n",
        "\n",
        "##### Описание полей\n",
        " - ```customer_id``` — идентификатор клиента;\n",
        " - ```gender``` — пол клиента;\n",
        "\n",
        "### Таблица ```tr_mcc_codes.csv```\n",
        "\n",
        "##### Описание\n",
        "Данная таблица содержит описание mcc-кодов транзакций.\n",
        "\n",
        "##### Формат данных\n",
        "```\n",
        "mcc_code;mcc_description\n",
        "1000;словесное описание mcc-кода 1000\n",
        "2000;словесное описание mcc-кода 2000\n",
        "...\n",
        "```\n",
        "\n",
        "##### Описание полей\n",
        " - ```mcc_code``` – mcc-код транзакции;\n",
        " - ```mcc_description``` — описание mcc-кода транзакции.\n",
        "\n",
        "### Таблица ```tr_types.csv```\n",
        "\n",
        "##### Описание\n",
        "Данная таблица содержит описание типов транзакций.\n",
        "\n",
        "##### Формат данных\n",
        "```\n",
        "tr_type;tr_description\n",
        "1000;словесное описание типа транзакции 1000\n",
        "2000;словесное описание типа транзакции 2000\n",
        "...\n",
        "```\n",
        "\n",
        "##### Описание полей\n",
        " - ```tr_type``` – тип транзакции;\n",
        " - ```tr_description``` — описание типа транзакции;"
      ]
    },
    {
      "cell_type": "markdown",
      "metadata": {
        "id": "QFjsIh7STKkZ"
      },
      "source": [
        "#### Task 5.\n",
        "1. В tr_types выберите произвольные 100 строк с помощью метода sample (указав при этом random_seed равный 242)\n",
        "2. В полученной на предыдущем этапе подвыборке найдите долю наблюдений (стобец tr_description), в которой содержится подстрока 'плата' (в любом регистре). (\\*)\n",
        "\n",
        "Выведите ответ в виде вещественного числа, округлённого до двух знаков после запятой, отделив дробную часть точкой в формате \"123.45\"\n",
        "\n",
        "##### Пояснения:\n",
        "(\\*) Строки \"ПлатА за аренду\", \"ПлатАза аренду\", \"ПЛАТА\" удовлетворяют условию, так как будучи переведёнными в нижний регистр содержат подстроку \"плата\"."
      ]
    },
    {
      "cell_type": "code",
      "execution_count": 12,
      "metadata": {
        "ExecuteTime": {
          "end_time": "2020-04-23T10:19:45.872766Z",
          "start_time": "2020-04-23T10:19:45.870317Z"
        },
        "scrolled": true,
        "id": "YP17TAHlTKkZ",
        "colab": {
          "base_uri": "https://localhost:8080/"
        },
        "outputId": "59e961be-f905-40ca-e6de-34a3f89c4464"
      },
      "outputs": [
        {
          "output_type": "stream",
          "name": "stdout",
          "text": [
            "0.26\n"
          ]
        }
      ],
      "source": [
        "### Type your code here\n",
        "sampled_data = tr_types.sample(n=100, random_state=242)\n",
        "\n",
        "\n",
        "fraction_contains = (sampled_data['tr_description'].str.contains('плата', case=False)).mean()\n",
        "\n",
        "# Выводим ответ, округленный до двух знаков после запятой\n",
        "print(\"{:.2f}\".format(fraction_contains))"
      ]
    },
    {
      "cell_type": "markdown",
      "source": [
        "Ответ: 0.26"
      ],
      "metadata": {
        "id": "lRsV45RGruDd"
      }
    },
    {
      "cell_type": "markdown",
      "metadata": {
        "id": "5P-TtMAUTKkZ"
      },
      "source": [
        "#### Task 6.\n",
        "1. Для поля tr_type датафрейма transactions посчитайте частоту встречаемости всех типов транзакций tr_type в transactions.\n",
        "2. Из перечисленных вариантов выберите те, которые попали в топ-5 транзакций по частоте встречаемости.\n",
        "\n",
        "#### Выберите все верные пункты:\n",
        "    - 1) Выдача наличных в АТМ Сбербанк России\n",
        "    - 2) Комиссия за обслуживание ссудного счета\n",
        "    - 3) Списание по требованию\n",
        "    - 4) Оплата услуги. Банкоматы СБ РФ\n",
        "    - 5) Погашение кредита (в пределах одного филиала)\n",
        "    - 6) Покупка. POS ТУ СБ РФ"
      ]
    },
    {
      "cell_type": "code",
      "execution_count": 27,
      "metadata": {
        "ExecuteTime": {
          "end_time": "2020-04-23T10:20:31.273965Z",
          "start_time": "2020-04-23T10:20:31.271483Z"
        },
        "id": "2PQnXLPxTKkZ",
        "colab": {
          "base_uri": "https://localhost:8080/",
          "height": 206
        },
        "outputId": "28084f1c-fd30-4142-ec8f-08398e1e0e59"
      },
      "outputs": [
        {
          "output_type": "execute_result",
          "data": {
            "text/plain": [
              "                                        tr_description\n",
              "98                               Покупка. POS ТУ СБ РФ\n",
              "106              Выдача наличных в АТМ Сбербанк России\n",
              "101                             Покупка. POS ТУ Россия\n",
              "99                      Оплата услуги. Банкоматы СБ РФ\n",
              "129  Списание с карты на карту по операции <перевод..."
            ],
            "text/html": [
              "\n",
              "  <div id=\"df-5a4a459b-3201-4cbc-b66d-b13b0cc0b7ea\" class=\"colab-df-container\">\n",
              "    <div>\n",
              "<style scoped>\n",
              "    .dataframe tbody tr th:only-of-type {\n",
              "        vertical-align: middle;\n",
              "    }\n",
              "\n",
              "    .dataframe tbody tr th {\n",
              "        vertical-align: top;\n",
              "    }\n",
              "\n",
              "    .dataframe thead th {\n",
              "        text-align: right;\n",
              "    }\n",
              "</style>\n",
              "<table border=\"1\" class=\"dataframe\">\n",
              "  <thead>\n",
              "    <tr style=\"text-align: right;\">\n",
              "      <th></th>\n",
              "      <th>tr_description</th>\n",
              "    </tr>\n",
              "  </thead>\n",
              "  <tbody>\n",
              "    <tr>\n",
              "      <th>98</th>\n",
              "      <td>Покупка. POS ТУ СБ РФ</td>\n",
              "    </tr>\n",
              "    <tr>\n",
              "      <th>106</th>\n",
              "      <td>Выдача наличных в АТМ Сбербанк России</td>\n",
              "    </tr>\n",
              "    <tr>\n",
              "      <th>101</th>\n",
              "      <td>Покупка. POS ТУ Россия</td>\n",
              "    </tr>\n",
              "    <tr>\n",
              "      <th>99</th>\n",
              "      <td>Оплата услуги. Банкоматы СБ РФ</td>\n",
              "    </tr>\n",
              "    <tr>\n",
              "      <th>129</th>\n",
              "      <td>Списание с карты на карту по операции &lt;перевод...</td>\n",
              "    </tr>\n",
              "  </tbody>\n",
              "</table>\n",
              "</div>\n",
              "    <div class=\"colab-df-buttons\">\n",
              "\n",
              "  <div class=\"colab-df-container\">\n",
              "    <button class=\"colab-df-convert\" onclick=\"convertToInteractive('df-5a4a459b-3201-4cbc-b66d-b13b0cc0b7ea')\"\n",
              "            title=\"Convert this dataframe to an interactive table.\"\n",
              "            style=\"display:none;\">\n",
              "\n",
              "  <svg xmlns=\"http://www.w3.org/2000/svg\" height=\"24px\" viewBox=\"0 -960 960 960\">\n",
              "    <path d=\"M120-120v-720h720v720H120Zm60-500h600v-160H180v160Zm220 220h160v-160H400v160Zm0 220h160v-160H400v160ZM180-400h160v-160H180v160Zm440 0h160v-160H620v160ZM180-180h160v-160H180v160Zm440 0h160v-160H620v160Z\"/>\n",
              "  </svg>\n",
              "    </button>\n",
              "\n",
              "  <style>\n",
              "    .colab-df-container {\n",
              "      display:flex;\n",
              "      gap: 12px;\n",
              "    }\n",
              "\n",
              "    .colab-df-convert {\n",
              "      background-color: #E8F0FE;\n",
              "      border: none;\n",
              "      border-radius: 50%;\n",
              "      cursor: pointer;\n",
              "      display: none;\n",
              "      fill: #1967D2;\n",
              "      height: 32px;\n",
              "      padding: 0 0 0 0;\n",
              "      width: 32px;\n",
              "    }\n",
              "\n",
              "    .colab-df-convert:hover {\n",
              "      background-color: #E2EBFA;\n",
              "      box-shadow: 0px 1px 2px rgba(60, 64, 67, 0.3), 0px 1px 3px 1px rgba(60, 64, 67, 0.15);\n",
              "      fill: #174EA6;\n",
              "    }\n",
              "\n",
              "    .colab-df-buttons div {\n",
              "      margin-bottom: 4px;\n",
              "    }\n",
              "\n",
              "    [theme=dark] .colab-df-convert {\n",
              "      background-color: #3B4455;\n",
              "      fill: #D2E3FC;\n",
              "    }\n",
              "\n",
              "    [theme=dark] .colab-df-convert:hover {\n",
              "      background-color: #434B5C;\n",
              "      box-shadow: 0px 1px 3px 1px rgba(0, 0, 0, 0.15);\n",
              "      filter: drop-shadow(0px 1px 2px rgba(0, 0, 0, 0.3));\n",
              "      fill: #FFFFFF;\n",
              "    }\n",
              "  </style>\n",
              "\n",
              "    <script>\n",
              "      const buttonEl =\n",
              "        document.querySelector('#df-5a4a459b-3201-4cbc-b66d-b13b0cc0b7ea button.colab-df-convert');\n",
              "      buttonEl.style.display =\n",
              "        google.colab.kernel.accessAllowed ? 'block' : 'none';\n",
              "\n",
              "      async function convertToInteractive(key) {\n",
              "        const element = document.querySelector('#df-5a4a459b-3201-4cbc-b66d-b13b0cc0b7ea');\n",
              "        const dataTable =\n",
              "          await google.colab.kernel.invokeFunction('convertToInteractive',\n",
              "                                                    [key], {});\n",
              "        if (!dataTable) return;\n",
              "\n",
              "        const docLinkHtml = 'Like what you see? Visit the ' +\n",
              "          '<a target=\"_blank\" href=https://colab.research.google.com/notebooks/data_table.ipynb>data table notebook</a>'\n",
              "          + ' to learn more about interactive tables.';\n",
              "        element.innerHTML = '';\n",
              "        dataTable['output_type'] = 'display_data';\n",
              "        await google.colab.output.renderOutput(dataTable, element);\n",
              "        const docLink = document.createElement('div');\n",
              "        docLink.innerHTML = docLinkHtml;\n",
              "        element.appendChild(docLink);\n",
              "      }\n",
              "    </script>\n",
              "  </div>\n",
              "\n",
              "\n",
              "<div id=\"df-ff4546c1-f939-4c03-b0ed-be3c1a9ec59b\">\n",
              "  <button class=\"colab-df-quickchart\" onclick=\"quickchart('df-ff4546c1-f939-4c03-b0ed-be3c1a9ec59b')\"\n",
              "            title=\"Suggest charts\"\n",
              "            style=\"display:none;\">\n",
              "\n",
              "<svg xmlns=\"http://www.w3.org/2000/svg\" height=\"24px\"viewBox=\"0 0 24 24\"\n",
              "     width=\"24px\">\n",
              "    <g>\n",
              "        <path d=\"M19 3H5c-1.1 0-2 .9-2 2v14c0 1.1.9 2 2 2h14c1.1 0 2-.9 2-2V5c0-1.1-.9-2-2-2zM9 17H7v-7h2v7zm4 0h-2V7h2v10zm4 0h-2v-4h2v4z\"/>\n",
              "    </g>\n",
              "</svg>\n",
              "  </button>\n",
              "\n",
              "<style>\n",
              "  .colab-df-quickchart {\n",
              "      --bg-color: #E8F0FE;\n",
              "      --fill-color: #1967D2;\n",
              "      --hover-bg-color: #E2EBFA;\n",
              "      --hover-fill-color: #174EA6;\n",
              "      --disabled-fill-color: #AAA;\n",
              "      --disabled-bg-color: #DDD;\n",
              "  }\n",
              "\n",
              "  [theme=dark] .colab-df-quickchart {\n",
              "      --bg-color: #3B4455;\n",
              "      --fill-color: #D2E3FC;\n",
              "      --hover-bg-color: #434B5C;\n",
              "      --hover-fill-color: #FFFFFF;\n",
              "      --disabled-bg-color: #3B4455;\n",
              "      --disabled-fill-color: #666;\n",
              "  }\n",
              "\n",
              "  .colab-df-quickchart {\n",
              "    background-color: var(--bg-color);\n",
              "    border: none;\n",
              "    border-radius: 50%;\n",
              "    cursor: pointer;\n",
              "    display: none;\n",
              "    fill: var(--fill-color);\n",
              "    height: 32px;\n",
              "    padding: 0;\n",
              "    width: 32px;\n",
              "  }\n",
              "\n",
              "  .colab-df-quickchart:hover {\n",
              "    background-color: var(--hover-bg-color);\n",
              "    box-shadow: 0 1px 2px rgba(60, 64, 67, 0.3), 0 1px 3px 1px rgba(60, 64, 67, 0.15);\n",
              "    fill: var(--button-hover-fill-color);\n",
              "  }\n",
              "\n",
              "  .colab-df-quickchart-complete:disabled,\n",
              "  .colab-df-quickchart-complete:disabled:hover {\n",
              "    background-color: var(--disabled-bg-color);\n",
              "    fill: var(--disabled-fill-color);\n",
              "    box-shadow: none;\n",
              "  }\n",
              "\n",
              "  .colab-df-spinner {\n",
              "    border: 2px solid var(--fill-color);\n",
              "    border-color: transparent;\n",
              "    border-bottom-color: var(--fill-color);\n",
              "    animation:\n",
              "      spin 1s steps(1) infinite;\n",
              "  }\n",
              "\n",
              "  @keyframes spin {\n",
              "    0% {\n",
              "      border-color: transparent;\n",
              "      border-bottom-color: var(--fill-color);\n",
              "      border-left-color: var(--fill-color);\n",
              "    }\n",
              "    20% {\n",
              "      border-color: transparent;\n",
              "      border-left-color: var(--fill-color);\n",
              "      border-top-color: var(--fill-color);\n",
              "    }\n",
              "    30% {\n",
              "      border-color: transparent;\n",
              "      border-left-color: var(--fill-color);\n",
              "      border-top-color: var(--fill-color);\n",
              "      border-right-color: var(--fill-color);\n",
              "    }\n",
              "    40% {\n",
              "      border-color: transparent;\n",
              "      border-right-color: var(--fill-color);\n",
              "      border-top-color: var(--fill-color);\n",
              "    }\n",
              "    60% {\n",
              "      border-color: transparent;\n",
              "      border-right-color: var(--fill-color);\n",
              "    }\n",
              "    80% {\n",
              "      border-color: transparent;\n",
              "      border-right-color: var(--fill-color);\n",
              "      border-bottom-color: var(--fill-color);\n",
              "    }\n",
              "    90% {\n",
              "      border-color: transparent;\n",
              "      border-bottom-color: var(--fill-color);\n",
              "    }\n",
              "  }\n",
              "</style>\n",
              "\n",
              "  <script>\n",
              "    async function quickchart(key) {\n",
              "      const quickchartButtonEl =\n",
              "        document.querySelector('#' + key + ' button');\n",
              "      quickchartButtonEl.disabled = true;  // To prevent multiple clicks.\n",
              "      quickchartButtonEl.classList.add('colab-df-spinner');\n",
              "      try {\n",
              "        const charts = await google.colab.kernel.invokeFunction(\n",
              "            'suggestCharts', [key], {});\n",
              "      } catch (error) {\n",
              "        console.error('Error during call to suggestCharts:', error);\n",
              "      }\n",
              "      quickchartButtonEl.classList.remove('colab-df-spinner');\n",
              "      quickchartButtonEl.classList.add('colab-df-quickchart-complete');\n",
              "    }\n",
              "    (() => {\n",
              "      let quickchartButtonEl =\n",
              "        document.querySelector('#df-ff4546c1-f939-4c03-b0ed-be3c1a9ec59b button');\n",
              "      quickchartButtonEl.style.display =\n",
              "        google.colab.kernel.accessAllowed ? 'block' : 'none';\n",
              "    })();\n",
              "  </script>\n",
              "</div>\n",
              "    </div>\n",
              "  </div>\n"
            ],
            "application/vnd.google.colaboratory.intrinsic+json": {
              "type": "dataframe",
              "summary": "{\n  \"name\": \"top_5_merge[['tr_description']]\",\n  \"rows\": 5,\n  \"fields\": [\n    {\n      \"column\": \"tr_description\",\n      \"properties\": {\n        \"dtype\": \"string\",\n        \"num_unique_values\": 5,\n        \"samples\": [\n          \"\\u0412\\u044b\\u0434\\u0430\\u0447\\u0430 \\u043d\\u0430\\u043b\\u0438\\u0447\\u043d\\u044b\\u0445 \\u0432 \\u0410\\u0422\\u041c \\u0421\\u0431\\u0435\\u0440\\u0431\\u0430\\u043d\\u043a \\u0420\\u043e\\u0441\\u0441\\u0438\\u0438\",\n          \"\\u0421\\u043f\\u0438\\u0441\\u0430\\u043d\\u0438\\u0435 \\u0441 \\u043a\\u0430\\u0440\\u0442\\u044b \\u043d\\u0430 \\u043a\\u0430\\u0440\\u0442\\u0443 \\u043f\\u043e \\u043e\\u043f\\u0435\\u0440\\u0430\\u0446\\u0438\\u0438 <\\u043f\\u0435\\u0440\\u0435\\u0432\\u043e\\u0434\\u0430 \\u0441 \\u043a\\u0430\\u0440\\u0442\\u044b \\u043d\\u0430 \\u043a\\u0430\\u0440\\u0442\\u0443> \\u0447\\u0435\\u0440\\u0435\\u0437 \\u041c\\u043e\\u0431\\u0438\\u043b\\u044c\\u043d\\u044b\\u0439 \\u0431\\u0430\\u043d\\u043a (\\u0431\\u0435\\u0437 \\u043a\\u043e\\u043c\\u0438\\u0441\\u0441\\u0438\\u0438)\",\n          \"\\u041f\\u043e\\u043a\\u0443\\u043f\\u043a\\u0430. POS \\u0422\\u0423 \\u0420\\u043e\\u0441\\u0441\\u0438\\u044f\"\n        ],\n        \"semantic_type\": \"\",\n        \"description\": \"\"\n      }\n    }\n  ]\n}"
            }
          },
          "metadata": {},
          "execution_count": 27
        }
      ],
      "source": [
        "trans_count = transactions['tr_type'].value_counts()\n",
        "\n",
        "top_5_trans = trans_count.head(5)\n",
        "\n",
        "top_5_merge = pd.merge(pd.DataFrame(top_5_trans), tr_types, left_index=True, right_on='tr_type')\n",
        "\n",
        "\n",
        "\n",
        "top_5_merge[['tr_description']].head(5)"
      ]
    },
    {
      "cell_type": "markdown",
      "source": [
        "**Ответ : 1,4,6**"
      ],
      "metadata": {
        "id": "cLd3H6nxygzA"
      }
    },
    {
      "cell_type": "markdown",
      "metadata": {
        "id": "gk7WwDaVTKka"
      },
      "source": [
        "#### Task 7.\n",
        "1. В датафрейме transactions задайте столбец  customer_id в качестве индекса.\n",
        "2. Выделите клиента с максимальной суммой транзакции (то есть с максимальным приходом на карту). (\\*)\n",
        "3. Найдите у него наиболее часто встречающийся модуль суммы приходов/расходов. (\\**)\n",
        "\n",
        "\n",
        "#### Выберите все верные пункты:\n",
        "    - 1) 1122957.89\n",
        "    - 2) 15721.41\n",
        "    - 3) 22459.16\n",
        "    - 4) 13475494.63\n",
        "    - 5) 107407.78\n",
        "    - 6) 65019.26\n",
        "\n",
        "##### Пояснения:\n",
        "(\\*) Если у клиента были транзакции [-10000, 10, 0, -10], то максимумом будет являться значение 10. <br>\n",
        "(\\**) Если у клиента были транзакции [-10000, 10, 0, -10], то наиболее встречающийся модуль суммы транзакций равен 10, и встретился он 2 раза."
      ]
    },
    {
      "cell_type": "code",
      "execution_count": 36,
      "metadata": {
        "ExecuteTime": {
          "end_time": "2020-04-23T10:20:53.265495Z",
          "start_time": "2020-04-23T10:20:53.263208Z"
        },
        "scrolled": true,
        "id": "oVGFT2PvTKka",
        "colab": {
          "base_uri": "https://localhost:8080/"
        },
        "outputId": "3aadd57c-686c-458b-8915-553dd8790f62"
      },
      "outputs": [
        {
          "output_type": "stream",
          "name": "stdout",
          "text": [
            "Id клиента с максимальной суммой транзакции:  26782922\n",
            "Максимальная транзакция:  145984525.17\n",
            "Средняя значение:  22459.16\n"
          ]
        }
      ],
      "source": [
        "### Type your code here\n",
        "transactions = pd.read_table('transactions.csv', index_col='customer_id', nrows = 1000000, sep = ',')\n",
        "\n",
        "max_transaction_customer = transactions['amount'].idxmax()\n",
        "max_transaction = transactions['amount'].max()\n",
        "\n",
        "trans_grouped2 = transactions.loc[max_transaction_customer, 'amount'].abs().value_counts()\n",
        "abs_max = trans_grouped2.idxmax()\n",
        "\n",
        "print(\"Id клиента с максимальной суммой транзакции: \",max_transaction_customer)\n",
        "print(\"Максимальная транзакция: \", max_transaction)\n",
        "print(\"Средняя значение: \", abs_max)"
      ]
    },
    {
      "cell_type": "markdown",
      "metadata": {
        "id": "wnUAM-4nTKka"
      },
      "source": [
        "#### Task 8.\n",
        "1. Найдите максимальную разницу между медианами суммы транзакций, посчитанными при заданных ниже условиях по полю amount из таблицы transactions (\\*):\n",
        "    - Медиана суммы транзакций\n",
        "    - Медиана суммы транзакций по тем строкам, которые ни в одном из своих столбцов не содержат пустые значения\n",
        "    - Медиана суммы транзакций по строкам, отсортированным по полю amount в порядке возрастания, и из которых удалены дублирующиеся по столбцам [mcc_code, tr_type] строки, причём при удалении соответстующих дублей остаются только последние из дублирующихся строк (keep='last')\n",
        "\n",
        "Выведите ответ в виде вещественного числа, округлённого до двух знаков после запятой, отделив дробную часть точкой в формате \"123.45\"\n",
        "\n",
        "##### Пояснения:\n",
        "(\\*) Для вычисления максимальной разницы между значениями списка можно использовать функцию np.ptp  \n",
        "(\\**) Если в результате получились значения [1,3,5], то макимальная разница между ними 4 == 5-1."
      ]
    },
    {
      "cell_type": "code",
      "execution_count": 47,
      "metadata": {
        "ExecuteTime": {
          "end_time": "2020-04-23T10:21:36.645933Z",
          "start_time": "2020-04-23T10:21:36.643612Z"
        },
        "scrolled": true,
        "id": "DTwzpHpJTKkb",
        "colab": {
          "base_uri": "https://localhost:8080/"
        },
        "outputId": "49d186d8-97e5-4a6a-98f9-80bf9075a79c"
      },
      "outputs": [
        {
          "output_type": "stream",
          "name": "stdout",
          "text": [
            "-5614.79\n",
            "-5596.6\n",
            "-920.83\n",
            "4693.96\n"
          ]
        }
      ],
      "source": [
        "transactions['amount'] = pd.to_numeric(transactions['amount'], errors='coerce')\n",
        "\n",
        "transactions = transactions.dropna(subset=['amount'])\n",
        "\n",
        "med_sum = transactions['amount'].median()\n",
        "\n",
        "transactions_noNan = transactions.dropna()\n",
        "med_sum_withoutNan = transactions_noNan['amount'].median()\n",
        "\n",
        "sorted_transactions = transactions.sort_values(by='amount', ascending=True)\n",
        "drop_dup = sorted_transactions.drop_duplicates(subset=['mcc_code', 'tr_type'], keep='last')\n",
        "\n",
        "med_sum_sort_nodup = drop_dup['amount'].median()\n",
        "\n",
        "max_diff = np.max([abs(med_sum - med_sum_withoutNan), abs(med_sum - med_sum_sort_nodup), abs(med_sum_sort_nodup - med_sum_withoutNan)])\n",
        "\n",
        "\n",
        "print(med_sum)\n",
        "print(med_sum_withoutNan)\n",
        "print(med_sum_sort_nodup)\n",
        "print(\"{:.2f}\".format(max_diff))"
      ]
    }
  ],
  "metadata": {
    "hide_input": false,
    "kernelspec": {
      "display_name": "Python 3",
      "language": "python",
      "name": "python3"
    },
    "language_info": {
      "codemirror_mode": {
        "name": "ipython",
        "version": 3
      },
      "file_extension": ".py",
      "mimetype": "text/x-python",
      "name": "python",
      "nbconvert_exporter": "python",
      "pygments_lexer": "ipython3",
      "version": "3.7.1"
    },
    "toc": {
      "base_numbering": 1,
      "nav_menu": {},
      "number_sections": true,
      "sideBar": true,
      "skip_h1_title": false,
      "title_cell": "Table of Contents",
      "title_sidebar": "Contents",
      "toc_cell": true,
      "toc_position": {},
      "toc_section_display": true,
      "toc_window_display": false
    },
    "varInspector": {
      "cols": {
        "lenName": 16,
        "lenType": 16,
        "lenVar": 40
      },
      "kernels_config": {
        "python": {
          "delete_cmd_postfix": "",
          "delete_cmd_prefix": "del ",
          "library": "var_list.py",
          "varRefreshCmd": "print(var_dic_list())"
        },
        "r": {
          "delete_cmd_postfix": ") ",
          "delete_cmd_prefix": "rm(",
          "library": "var_list.r",
          "varRefreshCmd": "cat(var_dic_list()) "
        }
      },
      "types_to_exclude": [
        "module",
        "function",
        "builtin_function_or_method",
        "instance",
        "_Feature"
      ],
      "window_display": false
    },
    "colab": {
      "provenance": [],
      "include_colab_link": true
    }
  },
  "nbformat": 4,
  "nbformat_minor": 0
}